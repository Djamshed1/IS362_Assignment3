{
 "cells": [
  {
   "cell_type": "markdown",
   "metadata": {},
   "source": [
    "# Assignment 3 - Bike trip"
   ]
  },
  {
   "cell_type": "markdown",
   "metadata": {},
   "source": [
    "### Assignment:\n",
    "Suppose you have ridden a bicycle from New York City to Key West, Florida.  Your bicycle odometer shows the total miles, which you have dutifully logged at the end of each day with paper and pencil.  Your first two entries might be 55 and 120, indicating that you rode your bike 55 miles on day 1 and 65 miles on day 2.  Your task is to create a pandas Series object that holds the cumulative miles at the end of each day, then use your Python skills to show the total miles that you rode each day.  Consider how you should best present this information in a Jupyter notebook.  You should save your Jupyter Notebook to your GitHub repository, and provide a link in your assignment submission."
   ]
  },
  {
   "cell_type": "markdown",
   "metadata": {},
   "source": [
    "##### 1. Open Google map and see how many miles and hours it will take to go from New York, NY to Key West, FL with bike.\n",
    "Google maps shows that it will take 1530 miles and 128 hours all together to reach Key West, FL."
   ]
  },
  {
   "cell_type": "markdown",
   "metadata": {
    "collapsed": true
   },
   "source": [
    "##### 2. Let's find our in average how many days it will take a person to go from New York, NY to Key West, FL with bike."
   ]
  },
  {
   "cell_type": "code",
   "execution_count": 1,
   "metadata": {},
   "outputs": [
    {
     "data": {
      "text/plain": [
       "25.5"
      ]
     },
     "execution_count": 1,
     "metadata": {},
     "output_type": "execute_result"
    }
   ],
   "source": [
    "Average = 1530 / (120 / 2)\n",
    "Average"
   ]
  },
  {
   "cell_type": "markdown",
   "metadata": {},
   "source": [
    "##### 3. 26 days of mile recording from New York, NY to Key West, FL\n",
    "Let's assume that it will take 26 days in total to reach Key West, FL. Here is a list of total miles per day and daily totals."
   ]
  },
  {
   "cell_type": "code",
   "execution_count": 7,
   "metadata": {
    "collapsed": true
   },
   "outputs": [],
   "source": [
    "import pandas as pd\n",
    "import numpy as np\n",
    "Odo = {}\n",
    "Odo[1]=55\n",
    "Odo[2]=120\n",
    "Odo[3]=177\n",
    "Odo[4]=238\n",
    "Odo[5]=300\n",
    "Odo[6]=355\n",
    "Odo[7]=411\n",
    "Odo[8]=471 \n",
    "Odo[9]=536 \n",
    "Odo[10]=588 \n",
    "Odo[11]=640 \n",
    "Odo[12]=690 \n",
    "Odo[13]=752 \n",
    "Odo[14]=817 \n",
    "Odo[15]=872 \n",
    "Odo[16]=929 \n",
    "Odo[17]=988\n",
    "Odo[18]=1049 \n",
    "Odo[19]=1112 \n",
    "Odo[20]=1168\n",
    "Odo[21]=1226\n",
    "Odo[22]=1286\n",
    "Odo[23]=1348\n",
    "Odo[24]=1412\n",
    "Odo[25]=1467\n",
    "Odo[26]=1530"
   ]
  },
  {
   "cell_type": "markdown",
   "metadata": {},
   "source": [
    "##### 4. Display daily record in panda series."
   ]
  },
  {
   "cell_type": "code",
   "execution_count": 8,
   "metadata": {},
   "outputs": [
    {
     "data": {
      "text/plain": [
       "1       55\n",
       "2      120\n",
       "3      177\n",
       "4      238\n",
       "5      300\n",
       "6      355\n",
       "7      411\n",
       "8      471\n",
       "9      536\n",
       "10     588\n",
       "11     640\n",
       "12     690\n",
       "13     752\n",
       "14     817\n",
       "15     872\n",
       "16     929\n",
       "17     988\n",
       "18    1049\n",
       "19    1112\n",
       "20    1168\n",
       "21    1226\n",
       "22    1286\n",
       "23    1348\n",
       "24    1412\n",
       "25    1467\n",
       "26    1530\n",
       "dtype: int64"
      ]
     },
     "execution_count": 8,
     "metadata": {},
     "output_type": "execute_result"
    }
   ],
   "source": [
    "Odo = pd.Series(Odo)\n",
    "Odo"
   ]
  },
  {
   "cell_type": "markdown",
   "metadata": {},
   "source": [
    "##### 5. Display daily records in graph."
   ]
  },
  {
   "cell_type": "code",
   "execution_count": 9,
   "metadata": {
    "scrolled": true
   },
   "outputs": [
    {
     "data": {
      "image/png": "[encoded data removed]",
      "text/plain": [
       "<matplotlib.figure.Figure at 0x9913898>"
      ]
     },
     "metadata": {},
     "output_type": "display_data"
    }
   ],
   "source": [
    "from matplotlib import pyplot\n",
    "today = pd.Series(Odo.iloc[0])\n",
    "today.index += 1\n",
    "\n",
    "tomorrow = pd.Series(np.diff(Odo))\n",
    "tomorrow.index += 2\n",
    "\n",
    "total = [today, tomorrow]\n",
    "dailyrecord = pd.concat(total)\n",
    "\n",
    "pyplot.plot(dailyrecord, linestyle='--', marker='o')\n",
    "pyplot.suptitle('NY to FL Bike Trip')\n",
    "pyplot.xlabel('Days')\n",
    "pyplot.ylabel('Miles')\n",
    "pyplot.grid()\n",
    "pyplot.show()"
   ]
  }
 ],
 "metadata": {
  "kernelspec": {
   "display_name": "Python 3",
   "language": "python",
   "name": "python3"
  },
  "language_info": {
   "codemirror_mode": {
    "name": "ipython",
    "version": 3
   },
   "file_extension": ".py",
   "mimetype": "text/x-python",
   "name": "python",
   "nbconvert_exporter": "python",
   "pygments_lexer": "ipython3",
   "version": "3.6.1"
  }
 },
 "nbformat": 4,
 "nbformat_minor": 2
}
